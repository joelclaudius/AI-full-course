{
 "cells": [
  {
   "cell_type": "code",
   "execution_count": 29,
   "id": "3bd5100e-736e-4253-a501-be0bec90c85c",
   "metadata": {},
   "outputs": [],
   "source": [
    "import numpy as np"
   ]
  },
  {
   "cell_type": "code",
   "execution_count": 87,
   "id": "e8dea4c9-e2a7-42b6-bbf2-3bf42483c862",
   "metadata": {},
   "outputs": [
    {
     "name": "stdout",
     "output_type": "stream",
     "text": [
      "[[30 60]\n",
      " [56 23]]\n",
      "[20 40]\n"
     ]
    }
   ],
   "source": [
    "a = np.array([[30, 60], [56,23]])\n",
    "b = np.array([20, 40])\n",
    "\n",
    "print(a)\n",
    "print(b)\n"
   ]
  },
  {
   "cell_type": "code",
   "execution_count": 49,
   "id": "96c94119-d558-4392-8238-612c674b20fd",
   "metadata": {},
   "outputs": [
    {
     "name": "stdout",
     "output_type": "stream",
     "text": [
      "Sum : [[ 50]\n",
      " [100]]\n",
      "sub:  [[10]\n",
      " [20]]\n",
      "scaler :  [[ 60]\n",
      " [120]]\n",
      "dot product :  [[ 600]\n",
      " [2400]]\n"
     ]
    }
   ],
   "source": [
    "#adding vectors\n",
    "print(\"Sum :\", (a + b).T)\n",
    "\n",
    "#substracting vectors\n",
    "print(\"sub: \", (a - b).T)\n",
    "\n",
    "# scala multiply\n",
    "c = 2\n",
    "\n",
    "print(\"scaler : \", (c * a).T)\n",
    "\n",
    "print(\"dot product : \", (a * b).T)\n"
   ]
  },
  {
   "cell_type": "code",
   "execution_count": 89,
   "id": "068d3169-1bbe-4d97-9960-3a6b62104635",
   "metadata": {},
   "outputs": [
    {
     "name": "stdout",
     "output_type": "stream",
     "text": [
      "dot_product =  [3000 2040]\n"
     ]
    }
   ],
   "source": [
    "#Dot product of 2 vectors\n",
    "dot_product = np.dot(a, b)\n",
    "print(\"dot_product = \", dot_product)"
   ]
  },
  {
   "cell_type": "code",
   "execution_count": 93,
   "id": "7f5d48c8-ace8-4ecf-8385-3189f3ebf35e",
   "metadata": {},
   "outputs": [
    {
     "name": "stdout",
     "output_type": "stream",
     "text": [
      "x =  [[23  4  8]\n",
      " [ 8 78  1]\n",
      " [ 9  9  0]]\n",
      "y =  [[ 2 47  2]\n",
      " [18  8  1]\n",
      " [90 19 30]]\n"
     ]
    }
   ],
   "source": [
    "x = np.array([[23,8,9], [4, 78,9], [8,1,0]])\n",
    "y = np.array([[2,18,90], [47, 8,19], [2,1,30]])\n",
    "print(\"x = \", x.T )\n",
    "print(\"y = \", y.T)"
   ]
  },
  {
   "cell_type": "code",
   "execution_count": 85,
   "id": "10bb89af-72b0-4c13-b07c-bf6f0b3734ce",
   "metadata": {},
   "outputs": [
    {
     "data": {
      "text/plain": [
       "array([[ 46, 144, 810],\n",
       "       [188, 624, 171],\n",
       "       [ 16,   1,   0]])"
      ]
     },
     "execution_count": 85,
     "metadata": {},
     "output_type": "execute_result"
    }
   ],
   "source": [
    "x * y"
   ]
  },
  {
   "cell_type": "code",
   "execution_count": 95,
   "id": "caaafdc5-acca-4d94-94ff-854104d2581e",
   "metadata": {},
   "outputs": [
    {
     "data": {
      "text/plain": [
       "'C:\\\\Users\\\\Administrator\\\\Documents\\\\AI\\\\uncertainity\\\\linear-algebra'"
      ]
     },
     "execution_count": 95,
     "metadata": {},
     "output_type": "execute_result"
    }
   ],
   "source": [
    "pwd\n"
   ]
  },
  {
   "cell_type": "code",
   "execution_count": 99,
   "id": "90ae792a-5fff-406e-bd59-ea4eb5d31b3a",
   "metadata": {},
   "outputs": [
    {
     "name": "stdout",
     "output_type": "stream",
     "text": [
      " Volume in drive C has no label.\n",
      " Volume Serial Number is 7CA6-8E5A\n",
      "\n",
      " Directory of C:\\Users\\Administrator\\Documents\\AI\\uncertainity\\linear-algebra\n",
      "\n"
     ]
    },
    {
     "name": "stderr",
     "output_type": "stream",
     "text": [
      "File Not Found\n"
     ]
    }
   ],
   "source": [
    "ls -l"
   ]
  }
 ],
 "metadata": {
  "kernelspec": {
   "display_name": "Python 3 (ipykernel)",
   "language": "python",
   "name": "python3"
  },
  "language_info": {
   "codemirror_mode": {
    "name": "ipython",
    "version": 3
   },
   "file_extension": ".py",
   "mimetype": "text/x-python",
   "name": "python",
   "nbconvert_exporter": "python",
   "pygments_lexer": "ipython3",
   "version": "3.12.4"
  }
 },
 "nbformat": 4,
 "nbformat_minor": 5
}

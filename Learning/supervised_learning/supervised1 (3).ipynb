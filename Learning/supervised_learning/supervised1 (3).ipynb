{
 "cells": [
  {
   "cell_type": "code",
   "execution_count": null,
   "id": "a8f56fca-a04a-46eb-aca9-5c0665bfba80",
   "metadata": {},
   "outputs": [],
   "source": [
    "from sklearn.neighbors import KNeighborsClassifier\n",
    "\n",
    "x = churn_df[[\"total_day_charge\", \"total_eve_charge\"]].values\n",
    "y = churn_df[\"churn\"].values\n",
    "\n",
    "print(x.shape, y.shape)\n",
    "\n",
    "knn = KNeighborsClassifier(n_neighbors=15)\n",
    "knn.fit(x,y)\n",
    "\n",
    "###Predicting on unlabelled data\n",
    "x_new = np.array([[56.8, 17.5],\n",
    "                  [24.4, 24.1],\n",
    "                  [50.1, 10.9]])\n",
    "\n",
    "print(x_new.shape)\n",
    "\n",
    "predictions = knn.predict(x_new)\n",
    "print('Predictions : {}'.format(predictions))\n",
    "\n",
    "\n"
   ]
  },
  {
   "cell_type": "code",
   "execution_count": null,
   "id": "b6206c08-990b-40dc-bb73-57e4e13d63a8",
   "metadata": {},
   "outputs": [],
   "source": [
    "#Train/test split\n",
    "from sklearn.model_selection import train_test_split\n",
    "\n",
    "X_train, X_test, y_train, y_test = train_test_split(X, y, test_size=0.3, random_state=21, stratify=y)\n",
    "knn = KNeighborsClassifier(n_neighbors=6)\n",
    "knn.fit(X_train, y_train)\n",
    "print(knn.score(X_test, y_test))"
   ]
  },
  {
   "cell_type": "code",
   "execution_count": null,
   "id": "1fdf256b-3853-4785-8d3c-353b6a9b4e7c",
   "metadata": {},
   "outputs": [],
   "source": [
    "#regression\n",
    "\n",
    "import pandas as pd\n",
    "diabetes_df = pd.read_csv(\"diabetes.csv\")\n",
    "print(diabetes_df.head())\n",
    "\n",
    "X = diabetes_df.drop(\"glucose\", axis=1).values\n",
    "y = diabetes_df[\"glucose\"].values\n",
    "print(type(X), type(y))\n",
    "\n",
    "X_bmi = X[:3]\n",
    "print(y.shape, X_bmi.shape)\n",
    "\n",
    "X_bmi.reshape(-1, 1)\n",
    "print(X_bmi.shape)\n",
    "\n",
    "#Plotting glucose vs bmi\n",
    "import matplotlib.pyplot as plt\n",
    "plt.scatter(X_bmi, y)\n",
    "plt.ylabel(\"Blood Glucose (mg/dl)\")\n",
    "plt.xlabel(\"BMI\")\n",
    "plt.show\n"
   ]
  },
  {
   "cell_type": "code",
   "execution_count": null,
   "id": "02afc00a-f43d-4457-b5b1-9419d2779627",
   "metadata": {},
   "outputs": [],
   "source": [
    "# fitting a regression model\n",
    "\n",
    "from sklearn.linear_model import LinearRegression\n",
    "reg = LinearRegression()\n",
    "reg.fit(X_bmi, y)\n",
    "predictions = reg.predict(X_bmi)\n",
    "plt.scatter(X_bmi, y)\n",
    "plt.ylabel(\"Blood Glucose (mg/dl)\")\n",
    "plt.xlabel(\"BMI\")\n",
    "plt.show()\n",
    "\n"
   ]
  },
  {
   "cell_type": "code",
   "execution_count": null,
   "id": "5b3dd074-2f63-441a-825b-8da1bb7d3597",
   "metadata": {},
   "outputs": [],
   "source": [
    "# Linear regression using all features\n",
    "\n",
    "from sklearn.model_selection import train_test_split\n",
    "from sklearn.linear_model import LinearRegression\n",
    "\n",
    "X_train, X_test, y_train, y_test = train_test_split(X, y, test_size = 0.3, random_state = 42)\n",
    "\n",
    "reg_all = LinearRegression()\n",
    "reg_all.fit(X_train, y_tarin)\n",
    "y_pred = reg_all.predict(X_test)\n",
    "\n",
    "#R-squared in scikit-learn\n",
    "reg_all.score(X_test, y_test)\n",
    "\n",
    "#mean-squared-error and root mean squared error\n",
    "from sklearn.metrics import mean_squared_error\n",
    "\n",
    "mean_squared_error(y_test, y_pred, squared=False)\n",
    "\n"
   ]
  },
  {
   "cell_type": "code",
   "execution_count": null,
   "id": "3b921173-bab9-4b04-ab90-d9d4953a63cc",
   "metadata": {},
   "outputs": [],
   "source": [
    "#cross-validation in scikit-learn\n",
    "from sklearn.model_selection import cross_val_score, KFold\n",
    "kf = KFold(n_splits=6, shuffle=True, random_state=42)\n",
    "reg = LinearRegression()\n",
    "cv_results = cross_val_score(reg, X, y, cv=kf)\n",
    "print(cv_results)\n",
    "\n",
    "print(np.mean(cv_results), np.std(cv_results))\n",
    "\n",
    "print(np.quantile(cv-results, [0.025, 0.975]))"
   ]
  },
  {
   "cell_type": "code",
   "execution_count": null,
   "id": "c22df1af-25ec-4ca9-919e-0fb0c257cda9",
   "metadata": {},
   "outputs": [],
   "source": [
    "#ridge regression\n",
    "\n",
    "from sklearn.linear_model import Ridge\n",
    "scores = []\n",
    "for alpha in [0.1, 1.0, 10.0, 100.0, 100.0]:\n",
    "    ridge = Ridge(alpha=alpha)\n",
    "    ridge.fit(X_train, y_train)\n",
    "    y_pred = ridge.predict(X_test)\n",
    "    scores.append(ridge.score(X_test, y_test))\n",
    "\n",
    "print(scores)\n",
    "\n",
    "\n",
    "\n"
   ]
  },
  {
   "cell_type": "code",
   "execution_count": null,
   "id": "788e5330-8458-4517-9f53-525f324dc79b",
   "metadata": {},
   "outputs": [],
   "source": [
    "#ridge regression\n",
    "from sklearn.linear_model import Lasso\n",
    "scores = []\n",
    "for alpha in [0.01, 1.0, 10.0, 20.0, 50.0]:\n",
    "    lasso = Lasso(alpha=alpha)\n",
    "    lasso.fit(X_train, y_train)\n",
    "    lasso_pred = ridge.predict(X_test)\n",
    "    scores.append(lasso.score(X_test, y_test))\n",
    "\n",
    "\n",
    "#lasso for feature selection in scikit-learn\n",
    "from sklearn.linear_model import Lasso\n",
    "X = diabetes_df.drop(\"glucose\", axis=10).values\n",
    "y = diabetes_df[\"glucose\"].values\n",
    "names = diabetes_df.drop(\"glucose\", axis=1).values\n",
    "lasso = Lasso(alpha=0.1)\n",
    "lasso_coef = lasso.fit(X, y).coef_\n",
    "plt.bar(names, lasso_coef)\n",
    "plt.xticks(rotation=45)\n",
    "plt.show()"
   ]
  },
  {
   "cell_type": "markdown",
   "id": "e25ba3fb-5efd-4e15-bfa7-7121db93d0ee",
   "metadata": {},
   "source": [
    "## confusion matrix in scikit-learn"
   ]
  },
  {
   "cell_type": "code",
   "execution_count": null,
   "id": "9b3af90b-b911-4f0d-b8e0-5aad203f69ff",
   "metadata": {},
   "outputs": [],
   "source": [
    "from sklearn.metrics import classification_report, confusion_matrix\n",
    "knn = KNeighborsClassifier(n_neighbors=7)\n",
    "X_train, X_test, y_train, y_test = train_test_split(X, y, test_size = 0.4, random_state = 42)\n",
    "knn.fit(X_train, y_train)\n",
    "y_pred = knn.predict(X_test)\n",
    "print(confusion_matrix(y_test, y_pred)\n",
    "print(classification_report(y_test, y_pred)\n"
   ]
  },
  {
   "cell_type": "markdown",
   "id": "018544c4-3607-4a42-b54d-20626aa005f3",
   "metadata": {},
   "source": [
    "## Accessing classification Performance"
   ]
  },
  {
   "cell_type": "code",
   "execution_count": null,
   "id": "9f22e0d3-fa91-4631-8675-d488ba38f932",
   "metadata": {},
   "outputs": [],
   "source": [
    "\n",
    "Acuuracy = (tp + tn) / (tp+tn+fp+fn)\n",
    "\n",
    "precision = (tp) / (tp + fp)  --> Positive predictive value\n",
    "\n",
    "recall = tp / (tp + fn)  --> sensitivity\n",
    "\n",
    "F1 score = 2 * (precision * recall) / (precision + recall)\n",
    "\n",
    "\n",
    "\n",
    "\n",
    "\n",
    "\n"
   ]
  },
  {
   "cell_type": "markdown",
   "id": "e0022671-fe4a-4b38-b3b2-e23b74a86f00",
   "metadata": {},
   "source": [
    "## Logistic Regression"
   ]
  },
  {
   "cell_type": "code",
   "execution_count": null,
   "id": "89f2a0e0-1fcd-4ff0-bf89-9b4c2c3a6703",
   "metadata": {},
   "outputs": [],
   "source": [
    "from sklearn.linear_model import LogisticRegression\n",
    "logreg = LogisticRegression()\n",
    "X_train, X_test, y_train, y_test = train_test_split(X, y, test_size=0.3, random_state=42)\n",
    "logreg.fit(X_train, y_train)\n",
    "y_pred = logreg.predict(X_test)\n",
    "\n",
    "#Predicting probabilities\n",
    "y_pred_probs = logreg.predict_proba(X_test) [:, 1]\n",
    "print(y_pred_probs[0])\n",
    "\n",
    "#ROC curve\n",
    "from sklearn.metrics import roc_curve\n",
    "fpr, tpr, thresholds = roc_curve(y_test, y_pred_probs)\n",
    "plt.plot([0,1], [0, 1], 'k--')\n",
    "plt.plot(fpr, tpr)\n",
    "plt.xlabel('False Positive Rate')\n",
    "plt.ylabel('True Positive Rate')\n",
    "plt.title('Logistic Regression ROC curve')\n",
    "plt.show()\n",
    "\n",
    "#ROC AUC\n",
    "from sklearn.sklearn.metrics import roc_auc_score\n",
    "print(roc_auc_score(y_test, y_pred_probs))\n",
    "\n",
    "\n"
   ]
  }
 ],
 "metadata": {
  "kernelspec": {
   "display_name": "Python 3 (ipykernel)",
   "language": "python",
   "name": "python3"
  },
  "language_info": {
   "codemirror_mode": {
    "name": "ipython",
    "version": 3
   },
   "file_extension": ".py",
   "mimetype": "text/x-python",
   "name": "python",
   "nbconvert_exporter": "python",
   "pygments_lexer": "ipython3",
   "version": "3.12.4"
  }
 },
 "nbformat": 4,
 "nbformat_minor": 5
}

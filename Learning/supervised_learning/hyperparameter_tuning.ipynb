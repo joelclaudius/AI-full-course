{
 "cells": [
  {
   "cell_type": "markdown",
   "id": "8ceccf8d-ead4-463e-b4dc-65b6c106dd76",
   "metadata": {},
   "source": [
    "# Hyperparameter tuning"
   ]
  },
  {
   "cell_type": "markdown",
   "id": "4f660624-5c0b-4509-a978-d383215e71ca",
   "metadata": {},
   "source": [
    "## Grid search cross-validation"
   ]
  },
  {
   "cell_type": "markdown",
   "id": "a26812ae-9856-4028-a40a-d783473fbf0e",
   "metadata": {},
   "source": [
    "### i) GridSearchCV"
   ]
  },
  {
   "cell_type": "code",
   "execution_count": null,
   "id": "2122ca97-adfb-4d47-ba4c-72199e04319e",
   "metadata": {},
   "outputs": [],
   "source": [
    "from sklearn.model_selection import GridSearchCV\n",
    "kf = KFold(n_splits=5, shuffle=True, random_state=42)\n",
    "param_grid = {\"alpha\": np.arrange(0.0001, 1, 10),\n",
    "              \"solver\": [\"sag\", \"lsqr\"]}\n",
    "ridge = Ridge()\n",
    "ridge_cv = GridSearchCV(ridge, param_grid, cv=kf)\n",
    "ridge_cv.fit(X_train, y_train)\n",
    "print(ridge_cv.best_params_, ridge_cv.best_score_)"
   ]
  },
  {
   "cell_type": "markdown",
   "id": "7b4fce1f-72ee-408a-b2af-a9cec0c54a1b",
   "metadata": {},
   "source": [
    "### ii) RandomizedSearchCV"
   ]
  },
  {
   "cell_type": "code",
   "execution_count": null,
   "id": "4c1267e9-3ebc-4adb-a3c3-59ca42b7e175",
   "metadata": {},
   "outputs": [],
   "source": [
    "from sklearn.model_selection import RandomizedSearchCV\n",
    "kf = KFold(n_splits=5, shuffle=True, random_state=42)\n",
    "param_grid = {\"alpha\": np.arrange(0.0001, 1, 10),\n",
    "              \"solver\": [\"sag\", \"lsqr\"]}\n",
    "ridge = Ridge()\n",
    "ridge_cv = RandomizedSearchCV(ridge, param_grid, cv=kf, n_iter=2)\n",
    "ridge_cv.fit(X_train, y_train)\n",
    "print(ridge_cv.best_params_, ridge_cv.best_score_)\n",
    "\n"
   ]
  },
  {
   "cell_type": "markdown",
   "id": "d372a435-80de-44dc-8f5b-cbd33f5377ad",
   "metadata": {},
   "source": [
    "## Evaluating on the test set"
   ]
  },
  {
   "cell_type": "code",
   "execution_count": null,
   "id": "ff92404a-9d97-4078-a755-844bd95c50b6",
   "metadata": {},
   "outputs": [],
   "source": [
    "test_score = ridge_cv.score(X_test, y_test)\n",
    "print(test_score)\n"
   ]
  }
 ],
 "metadata": {
  "kernelspec": {
   "display_name": "Python 3 (ipykernel)",
   "language": "python",
   "name": "python3"
  },
  "language_info": {
   "codemirror_mode": {
    "name": "ipython",
    "version": 3
   },
   "file_extension": ".py",
   "mimetype": "text/x-python",
   "name": "python",
   "nbconvert_exporter": "python",
   "pygments_lexer": "ipython3",
   "version": "3.12.4"
  }
 },
 "nbformat": 4,
 "nbformat_minor": 5
}

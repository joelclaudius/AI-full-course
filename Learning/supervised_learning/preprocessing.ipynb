{
 "cells": [
  {
   "cell_type": "markdown",
   "id": "d80cc1f0-3b1d-4249-bcec-096cf121e24b",
   "metadata": {},
   "source": [
    "# Preprocessing data"
   ]
  },
  {
   "cell_type": "code",
   "execution_count": null,
   "id": "21af1172-c161-45ec-9ccf-89aeb8663f41",
   "metadata": {},
   "outputs": [],
   "source": [
    "import pandas as pd\n",
    "music_df = pd.read_csv('music.csv')\n",
    "music_dummies = pd.get_dummies(music_df[\"genre\"], drop_first=True)\n",
    "print(music_dummies.head())\n",
    "\n",
    "music_dummies = pd.get_dummies([music_df, music_dummies], axis=1)\n",
    "music_dummies = music_dummies.drop(\"genre\", axis=1)\n",
    "\n",
    "#encoding dummy variables\n",
    "music_dummies = pd.get_dummies(music, drop_first=True)"
   ]
  },
  {
   "cell_type": "markdown",
   "id": "7d8b5c4e-7639-466b-8ed4-58fc733f91b0",
   "metadata": {},
   "source": [
    "## Linear regression with dummy variables"
   ]
  },
  {
   "cell_type": "code",
   "execution_count": null,
   "id": "9976bd38-2f39-484b-91a2-296081724f6c",
   "metadata": {},
   "outputs": [],
   "source": [
    "from sklearn.model_selection import cross_val_score, KFold\n",
    "from sklearn.linear_model import LinearRegression\n",
    "X = music_dummies.drop(\"popularity\", axis=1).values\n",
    "y = music_dummies[\"popularity\"].values\n",
    "X_train, X_test, y_train, y_test = train_test_split(X, y, test_size=0.2, random_state=42)\n",
    "\n",
    "kf = KFold(n_splits=5, shuffle=True, random_state=42)\n",
    "linreg = LinearRegression()\n",
    "linreg_cv = cross_val_score(linreg, X_train, y_train, cv=kf, scoring=\"neg_mean_squared_error\")\n",
    "print(np.sqrt(-linreg_cv))\n",
    "\n"
   ]
  },
  {
   "cell_type": "markdown",
   "id": "9f48bb88-5c1a-45e1-96f8-c087a36e165e",
   "metadata": {},
   "source": [
    "## Handling missing data"
   ]
  },
  {
   "cell_type": "code",
   "execution_count": null,
   "id": "c820750a-3c5a-40eb-a727-f545096dfbcf",
   "metadata": {},
   "outputs": [],
   "source": [
    "print(music_df.isna().sum().sort_values())"
   ]
  },
  {
   "cell_type": "markdown",
   "id": "b5383eb1-a3f0-4677-a1ef-c115bc2b87dd",
   "metadata": {},
   "source": [
    "#### Dropping missing data"
   ]
  },
  {
   "cell_type": "code",
   "execution_count": null,
   "id": "702ef918-ee90-4bd6-8680-5bf2d2a5c9da",
   "metadata": {},
   "outputs": [],
   "source": [
    "music_df = music_df.dropna(subset=[\"genre\",\"popularity\", \"loudness\", \"liveness\", \"tempo\"])"
   ]
  },
  {
   "cell_type": "markdown",
   "id": "63841fd6-a10c-42e9-9476-ad9c71fd63a3",
   "metadata": {},
   "source": [
    "#### Imputing values"
   ]
  },
  {
   "cell_type": "markdown",
   "id": "0909983f-0bba-4fc0-ab5d-b637af775b80",
   "metadata": {},
   "source": [
    "##### Imputing using SimpleImputer"
   ]
  },
  {
   "cell_type": "code",
   "execution_count": null,
   "id": "e142487d-85e7-4f0a-a37e-c1dc09debebb",
   "metadata": {},
   "outputs": [],
   "source": [
    "from sklearn.impute import SimpleImputer\n",
    "X_cat = music_df[\"genre\"].values.reshape(-1, 1)\n",
    "X_num = music_df.drop([\"genre\", \"popularity\"], axis=1).values\n",
    "y = music_df[\"popularity\"].values\n",
    "\n",
    "X_train_cat, X_test_cat, y_train, y_test = train_test_split(X_cat, y, test_size=0.2, random_state=12)\n",
    "\n",
    "X_train_num, X_test_num, y_train, y_test = train_test_split(X_num, y, test_size=0.2, random_state=12)\n",
    "\n",
    "imp_cat = SimplerImputer(strategy=\"most_frequent\")\n",
    "X_train_cat = imp_cat.fit_transform(X_train_cat)\n",
    "X_test_cat = imp_cat.fit_transform(X_test_cat)\n",
    "\n",
    "\n",
    "imp_num = SimpleImputer()\n",
    "X_train_num = imp_num.fit_transform(X_train_num)\n",
    "X_test_num = imp_num.fit_transform(X_test_num)\n",
    "\n",
    "X_train = np.append(X_train_num, X_train_cat, axis=1)\n",
    "X_test = np.append(X_test_num, X_test_cat, axis=1)\n",
    "\n",
    "\n"
   ]
  },
  {
   "cell_type": "markdown",
   "id": "0b98c867-179b-4b9e-918b-846c0f395d3a",
   "metadata": {},
   "source": [
    "##### Imputing using a pipeline"
   ]
  },
  {
   "cell_type": "code",
   "execution_count": null,
   "id": "da88555f-13eb-4068-88d3-185432c2f51f",
   "metadata": {},
   "outputs": [],
   "source": [
    "from sklearn.pipeline import Pipeline\n",
    "music_df = music_df.dropna(subset=[\"genre\",\"popularity\", \"loudness\", \"liveness\", \"tempo\"])\n",
    "music_df[\"genre\"] = np.where(music_df[\"genre\"] == \"Rock\", 1, 0)\n",
    "X = music_df.drop(\"genre\", axis=1).values\n",
    "y = music_df.drop[\"genre\"].values\n",
    "\n",
    "steps = [(\"Imputation\", SimpleImputer()),\n",
    "         (\"logistic_regression\", LogisticRegression())]\n",
    "\n",
    "pipeline = Pipeline(steps)\n",
    "\n",
    "X_train, X_test, y_train, y_test = train_test_split(X, y, test_size=0.3, random_state=42)\n",
    "pipeline.fit(X_train, y_train)\n",
    "\n",
    "pipeline.score(X_test, y_test)"
   ]
  }
 ],
 "metadata": {
  "kernelspec": {
   "display_name": "Python 3 (ipykernel)",
   "language": "python",
   "name": "python3"
  },
  "language_info": {
   "codemirror_mode": {
    "name": "ipython",
    "version": 3
   },
   "file_extension": ".py",
   "mimetype": "text/x-python",
   "name": "python",
   "nbconvert_exporter": "python",
   "pygments_lexer": "ipython3",
   "version": "3.12.4"
  }
 },
 "nbformat": 4,
 "nbformat_minor": 5
}
